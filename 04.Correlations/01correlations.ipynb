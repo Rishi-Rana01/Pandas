{
 "cells": [
  {
   "cell_type": "markdown",
   "id": "400b3ad2",
   "metadata": {},
   "source": [
    "### Finding Relationships\n",
    "A great aspect of the Pandas module is the corr() method.\n",
    "The corr() method calculates the relationship between each column in your data set."
   ]
  },
  {
   "cell_type": "code",
   "execution_count": 1,
   "id": "98f48b50",
   "metadata": {},
   "outputs": [],
   "source": [
    "import pandas as pd"
   ]
  },
  {
   "cell_type": "code",
   "execution_count": 2,
   "id": "5a657ecf",
   "metadata": {},
   "outputs": [
    {
     "name": "stdout",
     "output_type": "stream",
     "text": [
      "          Duration     Pulse  Maxpulse  Calories\n",
      "Duration  1.000000 -0.155408  0.009403  0.922721\n",
      "Pulse    -0.155408  1.000000  0.786535  0.025120\n",
      "Maxpulse  0.009403  0.786535  1.000000  0.203814\n",
      "Calories  0.922721  0.025120  0.203814  1.000000\n"
     ]
    }
   ],
   "source": [
    "df= pd.read_csv('data.csv')\n",
    "print(df.corr())"
   ]
  },
  {
   "cell_type": "markdown",
   "id": "591ffa57",
   "metadata": {},
   "source": [
    "### The number varies from -1 to 1.\n",
    "\n",
    "1 means that there is a 1 to 1 relationship (a perfect correlation), and for this data set, each time a value went up in the first column, the other one went up as well.\n",
    "\n",
    "0.9 is also a good relationship, and if you increase one value, the other will probably increase as well.\n",
    "\n",
    "-0.9 would be just as good relationship as 0.9, but if you increase one value, the other will probably go down.\n",
    "\n",
    "0.2 means NOT a good relationship, meaning that if one value goes up does not mean that the other will."
   ]
  }
 ],
 "metadata": {
  "kernelspec": {
   "display_name": "Python 3",
   "language": "python",
   "name": "python3"
  },
  "language_info": {
   "codemirror_mode": {
    "name": "ipython",
    "version": 3
   },
   "file_extension": ".py",
   "mimetype": "text/x-python",
   "name": "python",
   "nbconvert_exporter": "python",
   "pygments_lexer": "ipython3",
   "version": "3.12.5"
  }
 },
 "nbformat": 4,
 "nbformat_minor": 5
}
