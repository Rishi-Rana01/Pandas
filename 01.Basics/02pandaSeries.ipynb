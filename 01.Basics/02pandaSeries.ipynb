{
 "cells": [
  {
   "cell_type": "markdown",
   "id": "5f5785fb",
   "metadata": {},
   "source": [
    "# What is a Series?\n",
    "A Pandas Series is like a column in a table.\n",
    "\n",
    "It is a one-dimensional array holding data of any type."
   ]
  },
  {
   "cell_type": "code",
   "execution_count": 1,
   "id": "c2dc84a5",
   "metadata": {},
   "outputs": [],
   "source": [
    "import pandas as pd"
   ]
  },
  {
   "cell_type": "code",
   "execution_count": 2,
   "id": "65f484ac",
   "metadata": {},
   "outputs": [
    {
     "name": "stdout",
     "output_type": "stream",
     "text": [
      "    cars  passings\n",
      "0    BMW         3\n",
      "1  Volvo         7\n",
      "2   Ford         2\n"
     ]
    }
   ],
   "source": [
    "mydataset = {\n",
    "    'cars': [\"BMW\", \"Volvo\", \"Ford\"],\n",
    "    'passings': [3, 7, 2]\n",
    "}\n",
    "\n",
    "result= pd.DataFrame(mydataset)\n",
    "\n",
    "print(result)"
   ]
  },
  {
   "cell_type": "code",
   "execution_count": 3,
   "id": "024ec6f4",
   "metadata": {},
   "outputs": [
    {
     "name": "stdout",
     "output_type": "stream",
     "text": [
      "0    1\n",
      "1    2\n",
      "2    3\n",
      "dtype: int64\n",
      "1\n"
     ]
    }
   ],
   "source": [
    "a=[1,2,3]\n",
    "myvar=pd.Series(a)\n",
    "print(myvar)\n",
    "print(myvar[0])"
   ]
  },
  {
   "cell_type": "markdown",
   "id": "fb9ccaed",
   "metadata": {},
   "source": [
    "## Create Labels\n",
    "With the index argument, you can name your own labels.\n"
   ]
  },
  {
   "cell_type": "code",
   "execution_count": 4,
   "id": "316c4114",
   "metadata": {},
   "outputs": [
    {
     "name": "stdout",
     "output_type": "stream",
     "text": [
      "x    1\n",
      "y    7\n",
      "z    2\n",
      "dtype: int64\n",
      "7\n",
      "[1, 7, 2]\n"
     ]
    }
   ],
   "source": [
    "a= [1,7,2]\n",
    "myvar=pd.Series(a, index=[\"x\", \"y\", \"z\"]) #a is data and index is label\n",
    "print(myvar)\n",
    "print(myvar['y'])\n",
    "print(a)"
   ]
  },
  {
   "cell_type": "markdown",
   "id": "fa9b037b",
   "metadata": {},
   "source": [
    "## Key/Value Objects as Series"
   ]
  },
  {
   "cell_type": "code",
   "execution_count": 5,
   "id": "b6e8292d",
   "metadata": {},
   "outputs": [
    {
     "name": "stdout",
     "output_type": "stream",
     "text": [
      "day1    420\n",
      "day2    380\n",
      "day3    390\n",
      "dtype: int64\n",
      "Day 2: 380\n"
     ]
    }
   ],
   "source": [
    "calories = {\"day1\": 420, \"day2\": 380, \"day3\": 390}\n",
    "myvar = pd.Series(calories)\n",
    "print(myvar)\n",
    "print(\"Day 2:\",myvar['day2'])"
   ]
  },
  {
   "cell_type": "code",
   "execution_count": 6,
   "id": "76e23783",
   "metadata": {},
   "outputs": [
    {
     "name": "stdout",
     "output_type": "stream",
     "text": [
      "day1    420\n",
      "day2    380\n",
      "dtype: int64\n"
     ]
    }
   ],
   "source": [
    "calories = {\"day1\": 420, \"day2\": 380, \"day3\": 390}\n",
    "\n",
    "myvar = pd.Series(calories, index = [\"day1\", \"day2\"])\n",
    "\n",
    "print(myvar)"
   ]
  },
  {
   "cell_type": "markdown",
   "id": "b18119a5",
   "metadata": {},
   "source": [
    "## Data Frames\n",
    "Data sets in Pandas are usually multi-dimensional tables, called DataFrames.\n",
    "Series is like a column, a DataFrame is the whole table."
   ]
  },
  {
   "cell_type": "code",
   "execution_count": 20,
   "id": "e3257303",
   "metadata": {},
   "outputs": [
    {
     "name": "stdout",
     "output_type": "stream",
     "text": [
      "   calories  duration\n",
      "0       420        50\n",
      "1       380        40\n",
      "2       390        45\n",
      "\n",
      "First row:\n",
      "    calories  duration\n",
      "0       420        50\n",
      "\n",
      "First row:\n",
      " calories    420\n",
      "duration     50\n",
      "Name: 0, dtype: int64\n",
      "\n",
      "First two rows:\n",
      "    calories  duration\n",
      "0       420        50\n",
      "1       380        40\n"
     ]
    }
   ],
   "source": [
    "data = {\n",
    "    \"calories\": [420, 380, 390],\n",
    "    \"duration\": [50, 40, 45]    \n",
    "}\n",
    "myvar = pd.DataFrame(data)\n",
    "print(myvar)\n",
    "print(\"\\nFirst row:\\n\",myvar.loc[[0]])\n",
    "print(\"\\nFirst row:\\n\",myvar.loc[0])\n",
    "print(\"\\nFirst two rows:\\n\",myvar.loc[[0,1]])"
   ]
  },
  {
   "cell_type": "markdown",
   "id": "7cc83bf2",
   "metadata": {},
   "source": [
    "# Note: When using [], the result is a Pandas DataFrame.\n"
   ]
  },
  {
   "cell_type": "markdown",
   "id": "9ac10d02",
   "metadata": {},
   "source": [
    "## Named Indexes\n",
    "With the index argument, you can name your own indexes."
   ]
  },
  {
   "cell_type": "code",
   "execution_count": 21,
   "id": "89fabecc",
   "metadata": {},
   "outputs": [
    {
     "name": "stdout",
     "output_type": "stream",
     "text": [
      "      calories  duration\n",
      "day1       420        50\n",
      "day2       380        40\n",
      "day3       390        45\n",
      "\n",
      "Day 2\n",
      ": calories    380\n",
      "duration     40\n",
      "Name: day2, dtype: int64\n"
     ]
    }
   ],
   "source": [
    "data = {\n",
    "  \"calories\": [420, 380, 390],\n",
    "  \"duration\": [50, 40, 45]\n",
    "}\n",
    "\n",
    "df = pd.DataFrame(data, index = [\"day1\", \"day2\", \"day3\"])\n",
    "\n",
    "print(df) \n",
    "print(\"\\nDay 2\\n:\",df.loc[\"day2\"]) "
   ]
  }
 ],
 "metadata": {
  "kernelspec": {
   "display_name": "Python 3",
   "language": "python",
   "name": "python3"
  },
  "language_info": {
   "codemirror_mode": {
    "name": "ipython",
    "version": 3
   },
   "file_extension": ".py",
   "mimetype": "text/x-python",
   "name": "python",
   "nbconvert_exporter": "python",
   "pygments_lexer": "ipython3",
   "version": "3.12.5"
  }
 },
 "nbformat": 4,
 "nbformat_minor": 5
}
